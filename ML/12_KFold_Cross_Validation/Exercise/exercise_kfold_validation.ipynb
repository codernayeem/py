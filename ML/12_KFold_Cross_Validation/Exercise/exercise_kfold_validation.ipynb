{
 "cells": [
  {
   "cell_type": "code",
   "execution_count": 1,
   "metadata": {
    "collapsed": true
   },
   "outputs": [],
   "source": [
    "from sklearn.datasets import load_iris\n",
    "from sklearn.model_selection import cross_val_score\n",
    "from sklearn.linear_model import LogisticRegression\n",
    "from sklearn.tree import DecisionTreeClassifier\n",
    "from sklearn.svm import SVC\n",
    "from sklearn.ensemble import RandomForestClassifier\n",
    "import numpy as np"
   ]
  },
  {
   "cell_type": "code",
   "execution_count": 2,
   "metadata": {
    "collapsed": true
   },
   "outputs": [],
   "source": [
    "iris = load_iris()"
   ]
  },
  {
   "cell_type": "code",
   "execution_count": 3,
   "metadata": {},
   "outputs": [],
   "source": [
    "models = {\n",
    "    'Logistic (1)           ' : LogisticRegression(),\n",
    "    'Logistic (10)          ' : LogisticRegression(C=10),\n",
    "    'Decision Tree (gini)   ' : DecisionTreeClassifier(),\n",
    "    'Decision Tree (entropy)' : DecisionTreeClassifier(criterion='entropy'),\n",
    "    'Support Vector (1)     ' : SVC(),\n",
    "    'Support Vector (5)     ' : SVC(C=5),\n",
    "    'Support Vector (10)    ' : SVC(C=10),\n",
    "    'Random Forest (10)     ' : RandomForestClassifier(),\n",
    "    'Random Forest (20)     ' : RandomForestClassifier(n_estimators=20),\n",
    "    'Random Forest (30)     ' : RandomForestClassifier(n_estimators=30),\n",
    "    'Random Forest (40)     ' : RandomForestClassifier(n_estimators=40),\n",
    "}"
   ]
  },
  {
   "cell_type": "code",
   "execution_count": 4,
   "metadata": {},
   "outputs": [
    {
     "output_type": "stream",
     "name": "stdout",
     "text": "Logistic (10)           : 0.9866666666666667\nSupport Vector (5)      : 0.9800000000000001\nSupport Vector (10)     : 0.9800000000000001\nLogistic (1)            : 0.9733333333333334\nSupport Vector (1)      : 0.9733333333333334\nRandom Forest (30)      : 0.9666666666666666\nDecision Tree (gini)    : 0.96\nDecision Tree (entropy) : 0.96\nRandom Forest (10)      : 0.96\nRandom Forest (40)      : 0.96\nRandom Forest (20)      : 0.9533333333333334\n"
    }
   ],
   "source": [
    "scores = {}\n",
    "\n",
    "for name, model in models.items():\n",
    "    scores[name] = np.average(cross_val_score(model, iris.data, iris.target, cv=10))\n",
    "\n",
    "scores = {k: v for k, v in sorted(scores.items(), key=lambda item: item[1], reverse=True)}\n",
    "for name, score in scores.items():\n",
    "    print(f'{name} : {score}')"
   ]
  },
  {
   "cell_type": "markdown",
   "metadata": {},
   "source": [
    "**Best score so far is from Logistic(C=10) : 0.9866666666666667**"
   ]
  }
 ],
 "metadata": {
  "kernelspec": {
   "display_name": "Python 3",
   "language": "python",
   "name": "python3"
  },
  "language_info": {
   "codemirror_mode": {
    "name": "ipython",
    "version": 3
   },
   "file_extension": ".py",
   "mimetype": "text/x-python",
   "name": "python",
   "nbconvert_exporter": "python",
   "pygments_lexer": "ipython3",
   "version": "3.7.3-final"
  }
 },
 "nbformat": 4,
 "nbformat_minor": 2
}