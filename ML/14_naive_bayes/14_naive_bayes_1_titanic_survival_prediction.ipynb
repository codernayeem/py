{
 "cells": [
  {
   "cell_type": "markdown",
   "metadata": {},
   "source": [
    "<h2 style='color:purple' align='center'>Naive Bayes Tutorial Part 1: Predicting survival from titanic crash</h2>"
   ]
  },
  {
   "cell_type": "code",
   "execution_count": 1,
   "metadata": {},
   "outputs": [],
   "source": [
    "import pandas as pd"
   ]
  },
  {
   "cell_type": "code",
   "execution_count": 2,
   "metadata": {},
   "outputs": [
    {
     "output_type": "execute_result",
     "data": {
      "text/plain": "   PassengerId                                               Name  Pclass  \\\n0            1                            Braund, Mr. Owen Harris       3   \n1            2  Cumings, Mrs. John Bradley (Florence Briggs Th...       1   \n2            3                             Heikkinen, Miss. Laina       3   \n3            4       Futrelle, Mrs. Jacques Heath (Lily May Peel)       1   \n4            5                           Allen, Mr. William Henry       3   \n\n      Sex   Age  SibSp  Parch            Ticket     Fare Cabin Embarked  \\\n0    male  22.0      1      0         A/5 21171   7.2500   NaN        S   \n1  female  38.0      1      0          PC 17599  71.2833   C85        C   \n2  female  26.0      0      0  STON/O2. 3101282   7.9250   NaN        S   \n3  female  35.0      1      0            113803  53.1000  C123        S   \n4    male  35.0      0      0            373450   8.0500   NaN        S   \n\n   Survived  \n0         0  \n1         1  \n2         1  \n3         1  \n4         0  ",
      "text/html": "<div>\n<style scoped>\n    .dataframe tbody tr th:only-of-type {\n        vertical-align: middle;\n    }\n\n    .dataframe tbody tr th {\n        vertical-align: top;\n    }\n\n    .dataframe thead th {\n        text-align: right;\n    }\n</style>\n<table border=\"1\" class=\"dataframe\">\n  <thead>\n    <tr style=\"text-align: right;\">\n      <th></th>\n      <th>PassengerId</th>\n      <th>Name</th>\n      <th>Pclass</th>\n      <th>Sex</th>\n      <th>Age</th>\n      <th>SibSp</th>\n      <th>Parch</th>\n      <th>Ticket</th>\n      <th>Fare</th>\n      <th>Cabin</th>\n      <th>Embarked</th>\n      <th>Survived</th>\n    </tr>\n  </thead>\n  <tbody>\n    <tr>\n      <th>0</th>\n      <td>1</td>\n      <td>Braund, Mr. Owen Harris</td>\n      <td>3</td>\n      <td>male</td>\n      <td>22.0</td>\n      <td>1</td>\n      <td>0</td>\n      <td>A/5 21171</td>\n      <td>7.2500</td>\n      <td>NaN</td>\n      <td>S</td>\n      <td>0</td>\n    </tr>\n    <tr>\n      <th>1</th>\n      <td>2</td>\n      <td>Cumings, Mrs. John Bradley (Florence Briggs Th...</td>\n      <td>1</td>\n      <td>female</td>\n      <td>38.0</td>\n      <td>1</td>\n      <td>0</td>\n      <td>PC 17599</td>\n      <td>71.2833</td>\n      <td>C85</td>\n      <td>C</td>\n      <td>1</td>\n    </tr>\n    <tr>\n      <th>2</th>\n      <td>3</td>\n      <td>Heikkinen, Miss. Laina</td>\n      <td>3</td>\n      <td>female</td>\n      <td>26.0</td>\n      <td>0</td>\n      <td>0</td>\n      <td>STON/O2. 3101282</td>\n      <td>7.9250</td>\n      <td>NaN</td>\n      <td>S</td>\n      <td>1</td>\n    </tr>\n    <tr>\n      <th>3</th>\n      <td>4</td>\n      <td>Futrelle, Mrs. Jacques Heath (Lily May Peel)</td>\n      <td>1</td>\n      <td>female</td>\n      <td>35.0</td>\n      <td>1</td>\n      <td>0</td>\n      <td>113803</td>\n      <td>53.1000</td>\n      <td>C123</td>\n      <td>S</td>\n      <td>1</td>\n    </tr>\n    <tr>\n      <th>4</th>\n      <td>5</td>\n      <td>Allen, Mr. William Henry</td>\n      <td>3</td>\n      <td>male</td>\n      <td>35.0</td>\n      <td>0</td>\n      <td>0</td>\n      <td>373450</td>\n      <td>8.0500</td>\n      <td>NaN</td>\n      <td>S</td>\n      <td>0</td>\n    </tr>\n  </tbody>\n</table>\n</div>"
     },
     "metadata": {},
     "execution_count": 2
    }
   ],
   "source": [
    "df = pd.read_csv(\"titanic.csv\")\n",
    "df.head()"
   ]
  },
  {
   "cell_type": "code",
   "execution_count": 3,
   "metadata": {},
   "outputs": [
    {
     "output_type": "execute_result",
     "data": {
      "text/plain": "   Pclass     Sex   Age     Fare  Survived\n0       3    male  22.0   7.2500         0\n1       1  female  38.0  71.2833         1\n2       3  female  26.0   7.9250         1\n3       1  female  35.0  53.1000         1\n4       3    male  35.0   8.0500         0",
      "text/html": "<div>\n<style scoped>\n    .dataframe tbody tr th:only-of-type {\n        vertical-align: middle;\n    }\n\n    .dataframe tbody tr th {\n        vertical-align: top;\n    }\n\n    .dataframe thead th {\n        text-align: right;\n    }\n</style>\n<table border=\"1\" class=\"dataframe\">\n  <thead>\n    <tr style=\"text-align: right;\">\n      <th></th>\n      <th>Pclass</th>\n      <th>Sex</th>\n      <th>Age</th>\n      <th>Fare</th>\n      <th>Survived</th>\n    </tr>\n  </thead>\n  <tbody>\n    <tr>\n      <th>0</th>\n      <td>3</td>\n      <td>male</td>\n      <td>22.0</td>\n      <td>7.2500</td>\n      <td>0</td>\n    </tr>\n    <tr>\n      <th>1</th>\n      <td>1</td>\n      <td>female</td>\n      <td>38.0</td>\n      <td>71.2833</td>\n      <td>1</td>\n    </tr>\n    <tr>\n      <th>2</th>\n      <td>3</td>\n      <td>female</td>\n      <td>26.0</td>\n      <td>7.9250</td>\n      <td>1</td>\n    </tr>\n    <tr>\n      <th>3</th>\n      <td>1</td>\n      <td>female</td>\n      <td>35.0</td>\n      <td>53.1000</td>\n      <td>1</td>\n    </tr>\n    <tr>\n      <th>4</th>\n      <td>3</td>\n      <td>male</td>\n      <td>35.0</td>\n      <td>8.0500</td>\n      <td>0</td>\n    </tr>\n  </tbody>\n</table>\n</div>"
     },
     "metadata": {},
     "execution_count": 3
    }
   ],
   "source": [
    "df.drop(['PassengerId', 'Name', 'SibSp', 'Parch', 'Ticket', 'Cabin', 'Embarked'], axis=1, inplace=True)\n",
    "df.head()"
   ]
  },
  {
   "cell_type": "code",
   "execution_count": 4,
   "metadata": {},
   "outputs": [],
   "source": [
    "inputs = df.drop('Survived', axis=1)\n",
    "target = df.Survived"
   ]
  },
  {
   "cell_type": "code",
   "execution_count": 5,
   "metadata": {},
   "outputs": [],
   "source": [
    "#inputs.Sex = inputs.Sex.map({'male': 1, 'female': 2})"
   ]
  },
  {
   "cell_type": "code",
   "execution_count": 6,
   "metadata": {},
   "outputs": [
    {
     "output_type": "execute_result",
     "data": {
      "text/plain": "   Pclass   Age     Fare  Sex_male\n0       3  22.0   7.2500         1\n1       1  38.0  71.2833         0\n2       3  26.0   7.9250         0\n3       1  35.0  53.1000         0\n4       3  35.0   8.0500         1",
      "text/html": "<div>\n<style scoped>\n    .dataframe tbody tr th:only-of-type {\n        vertical-align: middle;\n    }\n\n    .dataframe tbody tr th {\n        vertical-align: top;\n    }\n\n    .dataframe thead th {\n        text-align: right;\n    }\n</style>\n<table border=\"1\" class=\"dataframe\">\n  <thead>\n    <tr style=\"text-align: right;\">\n      <th></th>\n      <th>Pclass</th>\n      <th>Age</th>\n      <th>Fare</th>\n      <th>Sex_male</th>\n    </tr>\n  </thead>\n  <tbody>\n    <tr>\n      <th>0</th>\n      <td>3</td>\n      <td>22.0</td>\n      <td>7.2500</td>\n      <td>1</td>\n    </tr>\n    <tr>\n      <th>1</th>\n      <td>1</td>\n      <td>38.0</td>\n      <td>71.2833</td>\n      <td>0</td>\n    </tr>\n    <tr>\n      <th>2</th>\n      <td>3</td>\n      <td>26.0</td>\n      <td>7.9250</td>\n      <td>0</td>\n    </tr>\n    <tr>\n      <th>3</th>\n      <td>1</td>\n      <td>35.0</td>\n      <td>53.1000</td>\n      <td>0</td>\n    </tr>\n    <tr>\n      <th>4</th>\n      <td>3</td>\n      <td>35.0</td>\n      <td>8.0500</td>\n      <td>1</td>\n    </tr>\n  </tbody>\n</table>\n</div>"
     },
     "metadata": {},
     "execution_count": 6
    }
   ],
   "source": [
    "inputs = pd.get_dummies(inputs, drop_first=True)\n",
    "inputs.head()"
   ]
  },
  {
   "cell_type": "code",
   "execution_count": 7,
   "metadata": {},
   "outputs": [
    {
     "output_type": "execute_result",
     "data": {
      "text/plain": "Index(['Age'], dtype='object')"
     },
     "metadata": {},
     "execution_count": 7
    }
   ],
   "source": [
    "inputs.columns[inputs.isna().any()]"
   ]
  },
  {
   "cell_type": "code",
   "execution_count": 8,
   "metadata": {},
   "outputs": [
    {
     "output_type": "execute_result",
     "data": {
      "text/plain": "0    22.0\n1    38.0\n2    26.0\n3    35.0\n4    35.0\n5     NaN\n6    54.0\n7     2.0\n8    27.0\n9    14.0\nName: Age, dtype: float64"
     },
     "metadata": {},
     "execution_count": 8
    }
   ],
   "source": [
    "inputs.Age[:10]"
   ]
  },
  {
   "cell_type": "code",
   "execution_count": 9,
   "metadata": {},
   "outputs": [
    {
     "output_type": "execute_result",
     "data": {
      "text/plain": "   Pclass   Age     Fare  Sex_male\n0       3  22.0   7.2500         1\n1       1  38.0  71.2833         0\n2       3  26.0   7.9250         0\n3       1  35.0  53.1000         0\n4       3  35.0   8.0500         1",
      "text/html": "<div>\n<style scoped>\n    .dataframe tbody tr th:only-of-type {\n        vertical-align: middle;\n    }\n\n    .dataframe tbody tr th {\n        vertical-align: top;\n    }\n\n    .dataframe thead th {\n        text-align: right;\n    }\n</style>\n<table border=\"1\" class=\"dataframe\">\n  <thead>\n    <tr style=\"text-align: right;\">\n      <th></th>\n      <th>Pclass</th>\n      <th>Age</th>\n      <th>Fare</th>\n      <th>Sex_male</th>\n    </tr>\n  </thead>\n  <tbody>\n    <tr>\n      <th>0</th>\n      <td>3</td>\n      <td>22.0</td>\n      <td>7.2500</td>\n      <td>1</td>\n    </tr>\n    <tr>\n      <th>1</th>\n      <td>1</td>\n      <td>38.0</td>\n      <td>71.2833</td>\n      <td>0</td>\n    </tr>\n    <tr>\n      <th>2</th>\n      <td>3</td>\n      <td>26.0</td>\n      <td>7.9250</td>\n      <td>0</td>\n    </tr>\n    <tr>\n      <th>3</th>\n      <td>1</td>\n      <td>35.0</td>\n      <td>53.1000</td>\n      <td>0</td>\n    </tr>\n    <tr>\n      <th>4</th>\n      <td>3</td>\n      <td>35.0</td>\n      <td>8.0500</td>\n      <td>1</td>\n    </tr>\n  </tbody>\n</table>\n</div>"
     },
     "metadata": {},
     "execution_count": 9
    }
   ],
   "source": [
    "inputs.Age = inputs.Age.fillna(inputs.Age.mean())\n",
    "inputs.head()"
   ]
  },
  {
   "cell_type": "code",
   "execution_count": 10,
   "metadata": {},
   "outputs": [],
   "source": [
    "from sklearn.model_selection import train_test_split\n",
    "X_train, X_test, y_train, y_test = train_test_split(inputs, target, test_size=0.3)"
   ]
  },
  {
   "cell_type": "code",
   "execution_count": 11,
   "metadata": {},
   "outputs": [],
   "source": [
    "from sklearn.naive_bayes import GaussianNB\n",
    "model = GaussianNB()"
   ]
  },
  {
   "cell_type": "code",
   "execution_count": 12,
   "metadata": {},
   "outputs": [
    {
     "output_type": "execute_result",
     "data": {
      "text/plain": "GaussianNB()"
     },
     "metadata": {},
     "execution_count": 12
    }
   ],
   "source": [
    "model.fit(X_train, y_train)"
   ]
  },
  {
   "cell_type": "code",
   "execution_count": 13,
   "metadata": {},
   "outputs": [
    {
     "output_type": "execute_result",
     "data": {
      "text/plain": "0.7611940298507462"
     },
     "metadata": {},
     "execution_count": 13
    }
   ],
   "source": [
    "model.score(X_test, y_test)"
   ]
  },
  {
   "cell_type": "code",
   "execution_count": 14,
   "metadata": {},
   "outputs": [
    {
     "output_type": "execute_result",
     "data": {
      "text/plain": "     Pclass        Age     Fare  Sex_male\n844       3  17.000000   8.6625         1\n20        2  35.000000  26.0000         1\n849       1  29.699118  89.1042         0\n99        2  34.000000  26.0000         1\n853       1  16.000000  39.4000         0\n72        2  21.000000  73.5000         1\n593       3  29.699118   7.7500         0\n272       2  41.000000  19.5000         0\n834       3  18.000000   8.3000         1\n209       1  40.000000  31.0000         1",
      "text/html": "<div>\n<style scoped>\n    .dataframe tbody tr th:only-of-type {\n        vertical-align: middle;\n    }\n\n    .dataframe tbody tr th {\n        vertical-align: top;\n    }\n\n    .dataframe thead th {\n        text-align: right;\n    }\n</style>\n<table border=\"1\" class=\"dataframe\">\n  <thead>\n    <tr style=\"text-align: right;\">\n      <th></th>\n      <th>Pclass</th>\n      <th>Age</th>\n      <th>Fare</th>\n      <th>Sex_male</th>\n    </tr>\n  </thead>\n  <tbody>\n    <tr>\n      <th>844</th>\n      <td>3</td>\n      <td>17.000000</td>\n      <td>8.6625</td>\n      <td>1</td>\n    </tr>\n    <tr>\n      <th>20</th>\n      <td>2</td>\n      <td>35.000000</td>\n      <td>26.0000</td>\n      <td>1</td>\n    </tr>\n    <tr>\n      <th>849</th>\n      <td>1</td>\n      <td>29.699118</td>\n      <td>89.1042</td>\n      <td>0</td>\n    </tr>\n    <tr>\n      <th>99</th>\n      <td>2</td>\n      <td>34.000000</td>\n      <td>26.0000</td>\n      <td>1</td>\n    </tr>\n    <tr>\n      <th>853</th>\n      <td>1</td>\n      <td>16.000000</td>\n      <td>39.4000</td>\n      <td>0</td>\n    </tr>\n    <tr>\n      <th>72</th>\n      <td>2</td>\n      <td>21.000000</td>\n      <td>73.5000</td>\n      <td>1</td>\n    </tr>\n    <tr>\n      <th>593</th>\n      <td>3</td>\n      <td>29.699118</td>\n      <td>7.7500</td>\n      <td>0</td>\n    </tr>\n    <tr>\n      <th>272</th>\n      <td>2</td>\n      <td>41.000000</td>\n      <td>19.5000</td>\n      <td>0</td>\n    </tr>\n    <tr>\n      <th>834</th>\n      <td>3</td>\n      <td>18.000000</td>\n      <td>8.3000</td>\n      <td>1</td>\n    </tr>\n    <tr>\n      <th>209</th>\n      <td>1</td>\n      <td>40.000000</td>\n      <td>31.0000</td>\n      <td>1</td>\n    </tr>\n  </tbody>\n</table>\n</div>"
     },
     "metadata": {},
     "execution_count": 14
    }
   ],
   "source": [
    "X_test[0:10]"
   ]
  },
  {
   "cell_type": "code",
   "execution_count": 15,
   "metadata": {
    "scrolled": true
   },
   "outputs": [
    {
     "output_type": "execute_result",
     "data": {
      "text/plain": "844    0\n20     0\n849    1\n99     0\n853    1\n72     0\n593    0\n272    1\n834    0\n209    1\nName: Survived, dtype: int64"
     },
     "metadata": {},
     "execution_count": 15
    }
   ],
   "source": [
    "y_test[0:10]"
   ]
  },
  {
   "cell_type": "code",
   "execution_count": 16,
   "metadata": {
    "scrolled": false
   },
   "outputs": [
    {
     "output_type": "execute_result",
     "data": {
      "text/plain": "array([0, 0, 1, 0, 1, 0, 1, 1, 0, 0], dtype=int64)"
     },
     "metadata": {},
     "execution_count": 16
    }
   ],
   "source": [
    "model.predict(X_test[0:10])"
   ]
  },
  {
   "cell_type": "code",
   "execution_count": 17,
   "metadata": {
    "scrolled": true
   },
   "outputs": [
    {
     "output_type": "execute_result",
     "data": {
      "text/plain": "array([[0.96069463, 0.03930537],\n       [0.9357857 , 0.0642143 ],\n       [0.00542003, 0.99457997],\n       [0.93540121, 0.06459879],\n       [0.03369719, 0.96630281],\n       [0.72298833, 0.27701167],\n       [0.33723537, 0.66276463],\n       [0.19293505, 0.80706495],\n       [0.96184398, 0.03815602],\n       [0.79589437, 0.20410563]])"
     },
     "metadata": {},
     "execution_count": 17
    }
   ],
   "source": [
    "model.predict_proba(X_test[:10])"
   ]
  },
  {
   "cell_type": "markdown",
   "metadata": {},
   "source": [
    "**Calculate the score using cross validation**"
   ]
  },
  {
   "cell_type": "code",
   "execution_count": 18,
   "metadata": {},
   "outputs": [
    {
     "output_type": "execute_result",
     "data": {
      "text/plain": "array([0.72      , 0.864     , 0.744     , 0.76612903, 0.7983871 ])"
     },
     "metadata": {},
     "execution_count": 18
    }
   ],
   "source": [
    "from sklearn.model_selection import cross_val_score\n",
    "cross_val_score(GaussianNB(), X_train, y_train, cv=5)"
   ]
  }
 ],
 "metadata": {
  "kernelspec": {
   "display_name": "Python 3",
   "language": "python",
   "name": "python3"
  },
  "language_info": {
   "codemirror_mode": {
    "name": "ipython",
    "version": 3
   },
   "file_extension": ".py",
   "mimetype": "text/x-python",
   "name": "python",
   "nbconvert_exporter": "python",
   "pygments_lexer": "ipython3",
   "version": "3.7.3-final"
  }
 },
 "nbformat": 4,
 "nbformat_minor": 2
}