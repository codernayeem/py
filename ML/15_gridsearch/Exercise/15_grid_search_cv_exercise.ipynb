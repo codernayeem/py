{
 "cells": [
  {
   "cell_type": "markdown",
   "metadata": {},
   "source": [
    "## Grid Search"
   ]
  },
  {
   "cell_type": "code",
   "execution_count": 1,
   "metadata": {},
   "outputs": [],
   "source": [
    "import pandas as pd\n",
    "from sklearn.datasets import load_digits\n",
    "from sklearn.model_selection import GridSearchCV\n",
    "digits = load_digits()"
   ]
  },
  {
   "cell_type": "code",
   "execution_count": 2,
   "metadata": {},
   "outputs": [],
   "source": [
    "from sklearn.svm import SVC\n",
    "from sklearn.ensemble import RandomForestClassifier\n",
    "from sklearn.linear_model import LogisticRegression\n",
    "from sklearn.naive_bayes import GaussianNB\n",
    "from sklearn.naive_bayes import MultinomialNB\n",
    "from sklearn.tree import DecisionTreeClassifier"
   ]
  },
  {
   "cell_type": "code",
   "execution_count": 3,
   "metadata": {},
   "outputs": [],
   "source": [
    "model_params = {\n",
    "    'svm': {\n",
    "        'model': SVC(),\n",
    "        'params' : {\n",
    "            'C': [1, 10, 20],\n",
    "            'kernel': ['rbf', 'linear'],\n",
    "            'gamma': ['auto', 'scale'],\n",
    "        }\n",
    "    },\n",
    "    'random_forest': {\n",
    "        'model': RandomForestClassifier(),\n",
    "        'params' : {\n",
    "            'n_estimators': [1, 5, 10, 20, 30, 40]\n",
    "        }\n",
    "    },\n",
    "    'logistic_regression' : {\n",
    "        'model': LogisticRegression(solver='liblinear', multi_class='auto'),\n",
    "        'params': {\n",
    "            'C': [1, 5, 10]\n",
    "        }\n",
    "    },\n",
    "    'GNB' : {\n",
    "        'model': GaussianNB(),\n",
    "        'params': {\n",
    "        }\n",
    "    },\n",
    "    'MNB' : {\n",
    "        'model': MultinomialNB(),\n",
    "        'params': {\n",
    "        }\n",
    "    },\n",
    "    'decition_tree' : {\n",
    "        'model': DecisionTreeClassifier(),\n",
    "        'params': {\n",
    "            'criterion': ['gini', 'entropy'],\n",
    "        }\n",
    "    },\n",
    "}"
   ]
  },
  {
   "cell_type": "code",
   "execution_count": 4,
   "metadata": {},
   "outputs": [
    {
     "output_type": "execute_result",
     "data": {
      "text/plain": "                 model  best_score  \\\n0                  svm    0.981626   \n1        random_forest    0.946024   \n2  logistic_regression    0.925975   \n3                  GNB    0.811390   \n4                  MNB    0.879786   \n5        decition_tree    0.833051   \n\n                                    best_params  \n0  {'C': 10, 'gamma': 'scale', 'kernel': 'rbf'}  \n1                          {'n_estimators': 40}  \n2                                      {'C': 1}  \n3                                            {}  \n4                                            {}  \n5                         {'criterion': 'gini'}  ",
      "text/html": "<div>\n<style scoped>\n    .dataframe tbody tr th:only-of-type {\n        vertical-align: middle;\n    }\n\n    .dataframe tbody tr th {\n        vertical-align: top;\n    }\n\n    .dataframe thead th {\n        text-align: right;\n    }\n</style>\n<table border=\"1\" class=\"dataframe\">\n  <thead>\n    <tr style=\"text-align: right;\">\n      <th></th>\n      <th>model</th>\n      <th>best_score</th>\n      <th>best_params</th>\n    </tr>\n  </thead>\n  <tbody>\n    <tr>\n      <th>0</th>\n      <td>svm</td>\n      <td>0.981626</td>\n      <td>{'C': 10, 'gamma': 'scale', 'kernel': 'rbf'}</td>\n    </tr>\n    <tr>\n      <th>1</th>\n      <td>random_forest</td>\n      <td>0.946024</td>\n      <td>{'n_estimators': 40}</td>\n    </tr>\n    <tr>\n      <th>2</th>\n      <td>logistic_regression</td>\n      <td>0.925975</td>\n      <td>{'C': 1}</td>\n    </tr>\n    <tr>\n      <th>3</th>\n      <td>GNB</td>\n      <td>0.811390</td>\n      <td>{}</td>\n    </tr>\n    <tr>\n      <th>4</th>\n      <td>MNB</td>\n      <td>0.879786</td>\n      <td>{}</td>\n    </tr>\n    <tr>\n      <th>5</th>\n      <td>decition_tree</td>\n      <td>0.833051</td>\n      <td>{'criterion': 'gini'}</td>\n    </tr>\n  </tbody>\n</table>\n</div>"
     },
     "metadata": {},
     "execution_count": 4
    }
   ],
   "source": [
    "scores = []\n",
    "\n",
    "for model_name, mp in model_params.items():\n",
    "    clf =  GridSearchCV(mp['model'], mp['params'], cv=10, return_train_score=False)\n",
    "    clf.fit(digits.data, digits.target)\n",
    "    scores.append({\n",
    "        'model': model_name,\n",
    "        'best_score': clf.best_score_,\n",
    "        'best_params': clf.best_params_\n",
    "    })\n",
    "    \n",
    "df = pd.DataFrame(scores, columns=['model', 'best_score', 'best_params'])\n",
    "df"
   ]
  },
  {
   "cell_type": "markdown",
   "metadata": {},
   "source": [
    " #### So, Best model is SVM with C=10, karnel=rbf, gamma=scale (Score : 98.16 %)"
   ]
  }
 ],
 "metadata": {
  "language_info": {
   "codemirror_mode": {
    "name": "ipython",
    "version": 3
   },
   "file_extension": ".py",
   "mimetype": "text/x-python",
   "name": "python",
   "nbconvert_exporter": "python",
   "pygments_lexer": "ipython3",
   "version": "3.7.3-final"
  },
  "orig_nbformat": 2,
  "kernelspec": {
   "name": "python37332bit9276062ae2474ac586cde8242146f9fc",
   "display_name": "Python 3.7.3 32-bit"
  }
 },
 "nbformat": 4,
 "nbformat_minor": 2
}