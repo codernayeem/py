{
 "cells": [
  {
   "cell_type": "code",
   "execution_count": 1,
   "metadata": {},
   "outputs": [
    {
     "output_type": "execute_result",
     "data": {
      "text/plain": "                Car Model  Mileage  Sell Price($)  Age(yrs)\n0                  BMW X5    69000          18000         6\n1                  BMW X5    35000          34000         3\n2                  BMW X5    57000          26100         5\n3                  BMW X5    22500          40000         2\n4                  BMW X5    46000          31500         4\n5                 Audi A5    59000          29400         5\n6                 Audi A5    52000          32000         5\n7                 Audi A5    72000          19300         6\n8                 Audi A5    91000          12000         8\n9   Mercedez Benz C class    67000          22000         6\n10  Mercedez Benz C class    83000          20000         7\n11  Mercedez Benz C class    79000          21000         7\n12  Mercedez Benz C class    59000          33000         5",
      "text/html": "<div>\n<style scoped>\n    .dataframe tbody tr th:only-of-type {\n        vertical-align: middle;\n    }\n\n    .dataframe tbody tr th {\n        vertical-align: top;\n    }\n\n    .dataframe thead th {\n        text-align: right;\n    }\n</style>\n<table border=\"1\" class=\"dataframe\">\n  <thead>\n    <tr style=\"text-align: right;\">\n      <th></th>\n      <th>Car Model</th>\n      <th>Mileage</th>\n      <th>Sell Price($)</th>\n      <th>Age(yrs)</th>\n    </tr>\n  </thead>\n  <tbody>\n    <tr>\n      <th>0</th>\n      <td>BMW X5</td>\n      <td>69000</td>\n      <td>18000</td>\n      <td>6</td>\n    </tr>\n    <tr>\n      <th>1</th>\n      <td>BMW X5</td>\n      <td>35000</td>\n      <td>34000</td>\n      <td>3</td>\n    </tr>\n    <tr>\n      <th>2</th>\n      <td>BMW X5</td>\n      <td>57000</td>\n      <td>26100</td>\n      <td>5</td>\n    </tr>\n    <tr>\n      <th>3</th>\n      <td>BMW X5</td>\n      <td>22500</td>\n      <td>40000</td>\n      <td>2</td>\n    </tr>\n    <tr>\n      <th>4</th>\n      <td>BMW X5</td>\n      <td>46000</td>\n      <td>31500</td>\n      <td>4</td>\n    </tr>\n    <tr>\n      <th>5</th>\n      <td>Audi A5</td>\n      <td>59000</td>\n      <td>29400</td>\n      <td>5</td>\n    </tr>\n    <tr>\n      <th>6</th>\n      <td>Audi A5</td>\n      <td>52000</td>\n      <td>32000</td>\n      <td>5</td>\n    </tr>\n    <tr>\n      <th>7</th>\n      <td>Audi A5</td>\n      <td>72000</td>\n      <td>19300</td>\n      <td>6</td>\n    </tr>\n    <tr>\n      <th>8</th>\n      <td>Audi A5</td>\n      <td>91000</td>\n      <td>12000</td>\n      <td>8</td>\n    </tr>\n    <tr>\n      <th>9</th>\n      <td>Mercedez Benz C class</td>\n      <td>67000</td>\n      <td>22000</td>\n      <td>6</td>\n    </tr>\n    <tr>\n      <th>10</th>\n      <td>Mercedez Benz C class</td>\n      <td>83000</td>\n      <td>20000</td>\n      <td>7</td>\n    </tr>\n    <tr>\n      <th>11</th>\n      <td>Mercedez Benz C class</td>\n      <td>79000</td>\n      <td>21000</td>\n      <td>7</td>\n    </tr>\n    <tr>\n      <th>12</th>\n      <td>Mercedez Benz C class</td>\n      <td>59000</td>\n      <td>33000</td>\n      <td>5</td>\n    </tr>\n  </tbody>\n</table>\n</div>"
     },
     "metadata": {},
     "execution_count": 1
    }
   ],
   "source": [
    "import pandas as pd\n",
    "df = pd.read_csv(\"carprices.csv\")\n",
    "df"
   ]
  },
  {
   "cell_type": "code",
   "execution_count": 2,
   "metadata": {},
   "outputs": [
    {
     "output_type": "execute_result",
     "data": {
      "text/plain": "    Mileage  Sell Price($)  Age(yrs)  BMW X5  Mercedez Benz C class\n0     69000          18000         6       1                      0\n1     35000          34000         3       1                      0\n2     57000          26100         5       1                      0\n3     22500          40000         2       1                      0\n4     46000          31500         4       1                      0\n5     59000          29400         5       0                      0\n6     52000          32000         5       0                      0\n7     72000          19300         6       0                      0\n8     91000          12000         8       0                      0\n9     67000          22000         6       0                      1\n10    83000          20000         7       0                      1\n11    79000          21000         7       0                      1\n12    59000          33000         5       0                      1",
      "text/html": "<div>\n<style scoped>\n    .dataframe tbody tr th:only-of-type {\n        vertical-align: middle;\n    }\n\n    .dataframe tbody tr th {\n        vertical-align: top;\n    }\n\n    .dataframe thead th {\n        text-align: right;\n    }\n</style>\n<table border=\"1\" class=\"dataframe\">\n  <thead>\n    <tr style=\"text-align: right;\">\n      <th></th>\n      <th>Mileage</th>\n      <th>Sell Price($)</th>\n      <th>Age(yrs)</th>\n      <th>BMW X5</th>\n      <th>Mercedez Benz C class</th>\n    </tr>\n  </thead>\n  <tbody>\n    <tr>\n      <th>0</th>\n      <td>69000</td>\n      <td>18000</td>\n      <td>6</td>\n      <td>1</td>\n      <td>0</td>\n    </tr>\n    <tr>\n      <th>1</th>\n      <td>35000</td>\n      <td>34000</td>\n      <td>3</td>\n      <td>1</td>\n      <td>0</td>\n    </tr>\n    <tr>\n      <th>2</th>\n      <td>57000</td>\n      <td>26100</td>\n      <td>5</td>\n      <td>1</td>\n      <td>0</td>\n    </tr>\n    <tr>\n      <th>3</th>\n      <td>22500</td>\n      <td>40000</td>\n      <td>2</td>\n      <td>1</td>\n      <td>0</td>\n    </tr>\n    <tr>\n      <th>4</th>\n      <td>46000</td>\n      <td>31500</td>\n      <td>4</td>\n      <td>1</td>\n      <td>0</td>\n    </tr>\n    <tr>\n      <th>5</th>\n      <td>59000</td>\n      <td>29400</td>\n      <td>5</td>\n      <td>0</td>\n      <td>0</td>\n    </tr>\n    <tr>\n      <th>6</th>\n      <td>52000</td>\n      <td>32000</td>\n      <td>5</td>\n      <td>0</td>\n      <td>0</td>\n    </tr>\n    <tr>\n      <th>7</th>\n      <td>72000</td>\n      <td>19300</td>\n      <td>6</td>\n      <td>0</td>\n      <td>0</td>\n    </tr>\n    <tr>\n      <th>8</th>\n      <td>91000</td>\n      <td>12000</td>\n      <td>8</td>\n      <td>0</td>\n      <td>0</td>\n    </tr>\n    <tr>\n      <th>9</th>\n      <td>67000</td>\n      <td>22000</td>\n      <td>6</td>\n      <td>0</td>\n      <td>1</td>\n    </tr>\n    <tr>\n      <th>10</th>\n      <td>83000</td>\n      <td>20000</td>\n      <td>7</td>\n      <td>0</td>\n      <td>1</td>\n    </tr>\n    <tr>\n      <th>11</th>\n      <td>79000</td>\n      <td>21000</td>\n      <td>7</td>\n      <td>0</td>\n      <td>1</td>\n    </tr>\n    <tr>\n      <th>12</th>\n      <td>59000</td>\n      <td>33000</td>\n      <td>5</td>\n      <td>0</td>\n      <td>1</td>\n    </tr>\n  </tbody>\n</table>\n</div>"
     },
     "metadata": {},
     "execution_count": 2
    }
   ],
   "source": [
    "df = pd.get_dummies(df, drop_first=True, prefix='', prefix_sep='')\n",
    "df"
   ]
  },
  {
   "cell_type": "code",
   "execution_count": 3,
   "metadata": {},
   "outputs": [
    {
     "output_type": "execute_result",
     "data": {
      "text/plain": "    Mileage  Age(yrs)  BMW X5  Mercedez Benz C class\n0     69000         6       1                      0\n1     35000         3       1                      0\n2     57000         5       1                      0\n3     22500         2       1                      0\n4     46000         4       1                      0\n5     59000         5       0                      0\n6     52000         5       0                      0\n7     72000         6       0                      0\n8     91000         8       0                      0\n9     67000         6       0                      1\n10    83000         7       0                      1\n11    79000         7       0                      1\n12    59000         5       0                      1",
      "text/html": "<div>\n<style scoped>\n    .dataframe tbody tr th:only-of-type {\n        vertical-align: middle;\n    }\n\n    .dataframe tbody tr th {\n        vertical-align: top;\n    }\n\n    .dataframe thead th {\n        text-align: right;\n    }\n</style>\n<table border=\"1\" class=\"dataframe\">\n  <thead>\n    <tr style=\"text-align: right;\">\n      <th></th>\n      <th>Mileage</th>\n      <th>Age(yrs)</th>\n      <th>BMW X5</th>\n      <th>Mercedez Benz C class</th>\n    </tr>\n  </thead>\n  <tbody>\n    <tr>\n      <th>0</th>\n      <td>69000</td>\n      <td>6</td>\n      <td>1</td>\n      <td>0</td>\n    </tr>\n    <tr>\n      <th>1</th>\n      <td>35000</td>\n      <td>3</td>\n      <td>1</td>\n      <td>0</td>\n    </tr>\n    <tr>\n      <th>2</th>\n      <td>57000</td>\n      <td>5</td>\n      <td>1</td>\n      <td>0</td>\n    </tr>\n    <tr>\n      <th>3</th>\n      <td>22500</td>\n      <td>2</td>\n      <td>1</td>\n      <td>0</td>\n    </tr>\n    <tr>\n      <th>4</th>\n      <td>46000</td>\n      <td>4</td>\n      <td>1</td>\n      <td>0</td>\n    </tr>\n    <tr>\n      <th>5</th>\n      <td>59000</td>\n      <td>5</td>\n      <td>0</td>\n      <td>0</td>\n    </tr>\n    <tr>\n      <th>6</th>\n      <td>52000</td>\n      <td>5</td>\n      <td>0</td>\n      <td>0</td>\n    </tr>\n    <tr>\n      <th>7</th>\n      <td>72000</td>\n      <td>6</td>\n      <td>0</td>\n      <td>0</td>\n    </tr>\n    <tr>\n      <th>8</th>\n      <td>91000</td>\n      <td>8</td>\n      <td>0</td>\n      <td>0</td>\n    </tr>\n    <tr>\n      <th>9</th>\n      <td>67000</td>\n      <td>6</td>\n      <td>0</td>\n      <td>1</td>\n    </tr>\n    <tr>\n      <th>10</th>\n      <td>83000</td>\n      <td>7</td>\n      <td>0</td>\n      <td>1</td>\n    </tr>\n    <tr>\n      <th>11</th>\n      <td>79000</td>\n      <td>7</td>\n      <td>0</td>\n      <td>1</td>\n    </tr>\n    <tr>\n      <th>12</th>\n      <td>59000</td>\n      <td>5</td>\n      <td>0</td>\n      <td>1</td>\n    </tr>\n  </tbody>\n</table>\n</div>"
     },
     "metadata": {},
     "execution_count": 3
    }
   ],
   "source": [
    "X = df.drop('Sell Price($)', axis=1)\n",
    "X"
   ]
  },
  {
   "cell_type": "code",
   "execution_count": 4,
   "metadata": {},
   "outputs": [
    {
     "output_type": "execute_result",
     "data": {
      "text/plain": "0     18000\n1     34000\n2     26100\n3     40000\n4     31500\n5     29400\n6     32000\n7     19300\n8     12000\n9     22000\n10    20000\n11    21000\n12    33000\nName: Sell Price($), dtype: int64"
     },
     "metadata": {},
     "execution_count": 4
    }
   ],
   "source": [
    "y = df['Sell Price($)']\n",
    "y"
   ]
  },
  {
   "cell_type": "code",
   "execution_count": 5,
   "metadata": {
    "collapsed": true
   },
   "outputs": [],
   "source": [
    "from sklearn.linear_model import LinearRegression\n",
    "model = LinearRegression()"
   ]
  },
  {
   "cell_type": "code",
   "execution_count": 6,
   "metadata": {},
   "outputs": [
    {
     "output_type": "execute_result",
     "data": {
      "text/plain": "LinearRegression()"
     },
     "metadata": {},
     "execution_count": 6
    }
   ],
   "source": [
    "model.fit(X, y)"
   ]
  },
  {
   "cell_type": "code",
   "execution_count": 7,
   "metadata": {},
   "outputs": [
    {
     "output_type": "execute_result",
     "data": {
      "text/plain": "0.9417050937281083"
     },
     "metadata": {},
     "execution_count": 7
    }
   ],
   "source": [
    "model.score(X, y)"
   ]
  },
  {
   "cell_type": "markdown",
   "metadata": {},
   "source": [
    "**Price of mercedez benz that is 4 yr old with mileage 45000**"
   ]
  },
  {
   "cell_type": "code",
   "execution_count": 8,
   "metadata": {
    "scrolled": true
   },
   "outputs": [
    {
     "output_type": "execute_result",
     "data": {
      "text/plain": "array([36991.31721061])"
     },
     "metadata": {},
     "execution_count": 8
    }
   ],
   "source": [
    "model.predict([[45000, 4, 0, 1]])"
   ]
  },
  {
   "cell_type": "markdown",
   "metadata": {},
   "source": [
    "**Price of BMW X5 that is 7 yr old with mileage 86000**"
   ]
  },
  {
   "cell_type": "code",
   "execution_count": 9,
   "metadata": {},
   "outputs": [
    {
     "output_type": "execute_result",
     "data": {
      "text/plain": "array([11080.74313219])"
     },
     "metadata": {},
     "execution_count": 9
    }
   ],
   "source": [
    "model.predict([[86000, 7, 1, 0]])"
   ]
  }
 ],
 "metadata": {
  "kernelspec": {
   "display_name": "Python 3",
   "language": "python",
   "name": "python3"
  },
  "language_info": {
   "codemirror_mode": {
    "name": "ipython",
    "version": 3
   },
   "file_extension": ".py",
   "mimetype": "text/x-python",
   "name": "python",
   "nbconvert_exporter": "python",
   "pygments_lexer": "ipython3",
   "version": "3.7.3-final"
  }
 },
 "nbformat": 4,
 "nbformat_minor": 2
}