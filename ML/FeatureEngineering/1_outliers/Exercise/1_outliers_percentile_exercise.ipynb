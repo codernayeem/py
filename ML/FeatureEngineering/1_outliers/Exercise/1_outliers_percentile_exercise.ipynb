{
 "cells": [
  {
   "cell_type": "code",
   "execution_count": 1,
   "metadata": {},
   "outputs": [],
   "source": [
    "import pandas as pd"
   ]
  },
  {
   "cell_type": "code",
   "execution_count": 2,
   "metadata": {},
   "outputs": [
    {
     "output_type": "execute_result",
     "data": {
      "text/plain": "     id                                              name  host_id  \\\n0  2539                Clean & quiet apt home by the park     2787   \n1  2595                             Skylit Midtown Castle     2845   \n2  3647               THE VILLAGE OF HARLEM....NEW YORK !     4632   \n3  3831                   Cozy Entire Floor of Brownstone     4869   \n4  5022  Entire Apt: Spacious Studio/Loft by central park     7192   \n\n     host_name neighbourhood_group neighbourhood  latitude  longitude  \\\n0         John            Brooklyn    Kensington  40.64749  -73.97237   \n1     Jennifer           Manhattan       Midtown  40.75362  -73.98377   \n2    Elisabeth           Manhattan        Harlem  40.80902  -73.94190   \n3  LisaRoxanne            Brooklyn  Clinton Hill  40.68514  -73.95976   \n4        Laura           Manhattan   East Harlem  40.79851  -73.94399   \n\n         room_type  price  minimum_nights  number_of_reviews last_review  \\\n0     Private room    149               1                  9  2018-10-19   \n1  Entire home/apt    225               1                 45  2019-05-21   \n2     Private room    150               3                  0         NaN   \n3  Entire home/apt     89               1                270  2019-07-05   \n4  Entire home/apt     80              10                  9  2018-11-19   \n\n   reviews_per_month  calculated_host_listings_count  availability_365  \n0               0.21                               6               365  \n1               0.38                               2               355  \n2                NaN                               1               365  \n3               4.64                               1               194  \n4               0.10                               1                 0  ",
      "text/html": "<div>\n<style scoped>\n    .dataframe tbody tr th:only-of-type {\n        vertical-align: middle;\n    }\n\n    .dataframe tbody tr th {\n        vertical-align: top;\n    }\n\n    .dataframe thead th {\n        text-align: right;\n    }\n</style>\n<table border=\"1\" class=\"dataframe\">\n  <thead>\n    <tr style=\"text-align: right;\">\n      <th></th>\n      <th>id</th>\n      <th>name</th>\n      <th>host_id</th>\n      <th>host_name</th>\n      <th>neighbourhood_group</th>\n      <th>neighbourhood</th>\n      <th>latitude</th>\n      <th>longitude</th>\n      <th>room_type</th>\n      <th>price</th>\n      <th>minimum_nights</th>\n      <th>number_of_reviews</th>\n      <th>last_review</th>\n      <th>reviews_per_month</th>\n      <th>calculated_host_listings_count</th>\n      <th>availability_365</th>\n    </tr>\n  </thead>\n  <tbody>\n    <tr>\n      <th>0</th>\n      <td>2539</td>\n      <td>Clean &amp; quiet apt home by the park</td>\n      <td>2787</td>\n      <td>John</td>\n      <td>Brooklyn</td>\n      <td>Kensington</td>\n      <td>40.64749</td>\n      <td>-73.97237</td>\n      <td>Private room</td>\n      <td>149</td>\n      <td>1</td>\n      <td>9</td>\n      <td>2018-10-19</td>\n      <td>0.21</td>\n      <td>6</td>\n      <td>365</td>\n    </tr>\n    <tr>\n      <th>1</th>\n      <td>2595</td>\n      <td>Skylit Midtown Castle</td>\n      <td>2845</td>\n      <td>Jennifer</td>\n      <td>Manhattan</td>\n      <td>Midtown</td>\n      <td>40.75362</td>\n      <td>-73.98377</td>\n      <td>Entire home/apt</td>\n      <td>225</td>\n      <td>1</td>\n      <td>45</td>\n      <td>2019-05-21</td>\n      <td>0.38</td>\n      <td>2</td>\n      <td>355</td>\n    </tr>\n    <tr>\n      <th>2</th>\n      <td>3647</td>\n      <td>THE VILLAGE OF HARLEM....NEW YORK !</td>\n      <td>4632</td>\n      <td>Elisabeth</td>\n      <td>Manhattan</td>\n      <td>Harlem</td>\n      <td>40.80902</td>\n      <td>-73.94190</td>\n      <td>Private room</td>\n      <td>150</td>\n      <td>3</td>\n      <td>0</td>\n      <td>NaN</td>\n      <td>NaN</td>\n      <td>1</td>\n      <td>365</td>\n    </tr>\n    <tr>\n      <th>3</th>\n      <td>3831</td>\n      <td>Cozy Entire Floor of Brownstone</td>\n      <td>4869</td>\n      <td>LisaRoxanne</td>\n      <td>Brooklyn</td>\n      <td>Clinton Hill</td>\n      <td>40.68514</td>\n      <td>-73.95976</td>\n      <td>Entire home/apt</td>\n      <td>89</td>\n      <td>1</td>\n      <td>270</td>\n      <td>2019-07-05</td>\n      <td>4.64</td>\n      <td>1</td>\n      <td>194</td>\n    </tr>\n    <tr>\n      <th>4</th>\n      <td>5022</td>\n      <td>Entire Apt: Spacious Studio/Loft by central park</td>\n      <td>7192</td>\n      <td>Laura</td>\n      <td>Manhattan</td>\n      <td>East Harlem</td>\n      <td>40.79851</td>\n      <td>-73.94399</td>\n      <td>Entire home/apt</td>\n      <td>80</td>\n      <td>10</td>\n      <td>9</td>\n      <td>2018-11-19</td>\n      <td>0.10</td>\n      <td>1</td>\n      <td>0</td>\n    </tr>\n  </tbody>\n</table>\n</div>"
     },
     "metadata": {},
     "execution_count": 2
    }
   ],
   "source": [
    "df = pd.read_csv(\"AB_NYC_2019.csv\")\n",
    "df.head()"
   ]
  },
  {
   "cell_type": "code",
   "execution_count": 3,
   "metadata": {
    "scrolled": true
   },
   "outputs": [
    {
     "output_type": "execute_result",
     "data": {
      "text/plain": "count    48895.000000\nmean       152.720687\nstd        240.154170\nmin          0.000000\n25%         69.000000\n50%        106.000000\n75%        175.000000\nmax      10000.000000\nName: price, dtype: float64"
     },
     "metadata": {},
     "execution_count": 3
    }
   ],
   "source": [
    "df.price.describe()"
   ]
  },
  {
   "cell_type": "code",
   "execution_count": 4,
   "metadata": {},
   "outputs": [
    {
     "output_type": "execute_result",
     "data": {
      "text/plain": "(30.0, 3000.0)"
     },
     "metadata": {},
     "execution_count": 4
    }
   ],
   "source": [
    "min_thresold, max_thresold = df.price.quantile([0.01, 0.999])\n",
    "min_thresold, max_thresold"
   ]
  },
  {
   "cell_type": "code",
   "execution_count": 5,
   "metadata": {},
   "outputs": [
    {
     "output_type": "execute_result",
     "data": {
      "text/plain": "             id                                             name    host_id  \\\n957      375249                  Enjoy Staten Island Hospitality    1887999   \n2675    1428154              Central, Peaceful Semi-Private Room    5912572   \n2860    1620248    Large furnished 2 bedrooms- - 30 days Minimum    2196224   \n3020    1767037               Small Cozy Room Wifi & AC near JFK    9284163   \n3918    2431607                    Bright, Airy Room Share for 2    4973668   \n...         ...                                              ...        ...   \n48486  36280646                     Cable and wfi, L/G included.  272872092   \n48647  36354776    Cozy bedroom in diverse neighborhood near JFK  273393150   \n48832  36450814                         FLATBUSH HANG OUT AND GO  267223765   \n48867  36473044  The place you were dreaming for.(only for guys)  261338177   \n48868  36473253                     Heaven for you(only for guy)  261338177   \n\n         host_name neighbourhood_group       neighbourhood  latitude  \\\n957    Rimma & Jim       Staten Island        Graniteville  40.62109   \n2675       Tangier            Brooklyn            Flatbush  40.63899   \n2860         Sally           Manhattan        East Village  40.73051   \n3020       Antonio              Queens           Woodhaven  40.68968   \n3918        Gloria            Brooklyn  Bedford-Stuyvesant  40.68642   \n...            ...                 ...                 ...       ...   \n48486        Chris              Queens        Forest Hills  40.73657   \n48647         Liza              Queens       Richmond Hill  40.68639   \n48832       Jarmel            Brooklyn            Flatbush  40.64922   \n48867        Diana            Brooklyn           Gravesend  40.59080   \n48868        Diana            Brooklyn           Gravesend  40.59118   \n\n       longitude        room_type  price  minimum_nights  number_of_reviews  \\\n957    -74.16534     Private room     20               3                 80   \n2675   -73.95177      Shared room     29               2                  5   \n2860   -73.98140  Entire home/apt     10              30                  0   \n3020   -73.85219     Private room     29               2                386   \n3918   -73.93440      Shared room     25               5                 76   \n...          ...              ...    ...             ...                ...   \n48486  -73.85088  Entire home/apt     16               9                  1   \n48647  -73.81847     Private room     28               2                  0   \n48832  -73.96078      Shared room     20               1                  0   \n48867  -73.97116      Shared room     25               1                  0   \n48868  -73.97119      Shared room     25               7                  0   \n\n      last_review  reviews_per_month  calculated_host_listings_count  \\\n957    2019-05-26               0.92                               1   \n2675   2014-10-20               0.07                               1   \n2860          NaN                NaN                               4   \n3020   2019-06-19               5.53                               3   \n3918   2019-06-06               1.22                               3   \n...           ...                ...                             ...   \n48486  2019-07-07               1.00                               1   \n48647         NaN                NaN                               1   \n48832         NaN                NaN                               3   \n48867         NaN                NaN                               6   \n48868         NaN                NaN                               6   \n\n       availability_365  \n957                 226  \n2675                321  \n2860                137  \n3020                 50  \n3918                258  \n...                 ...  \n48486               322  \n48647                24  \n48832               363  \n48867               338  \n48868               365  \n\n[404 rows x 16 columns]",
      "text/html": "<div>\n<style scoped>\n    .dataframe tbody tr th:only-of-type {\n        vertical-align: middle;\n    }\n\n    .dataframe tbody tr th {\n        vertical-align: top;\n    }\n\n    .dataframe thead th {\n        text-align: right;\n    }\n</style>\n<table border=\"1\" class=\"dataframe\">\n  <thead>\n    <tr style=\"text-align: right;\">\n      <th></th>\n      <th>id</th>\n      <th>name</th>\n      <th>host_id</th>\n      <th>host_name</th>\n      <th>neighbourhood_group</th>\n      <th>neighbourhood</th>\n      <th>latitude</th>\n      <th>longitude</th>\n      <th>room_type</th>\n      <th>price</th>\n      <th>minimum_nights</th>\n      <th>number_of_reviews</th>\n      <th>last_review</th>\n      <th>reviews_per_month</th>\n      <th>calculated_host_listings_count</th>\n      <th>availability_365</th>\n    </tr>\n  </thead>\n  <tbody>\n    <tr>\n      <th>957</th>\n      <td>375249</td>\n      <td>Enjoy Staten Island Hospitality</td>\n      <td>1887999</td>\n      <td>Rimma &amp; Jim</td>\n      <td>Staten Island</td>\n      <td>Graniteville</td>\n      <td>40.62109</td>\n      <td>-74.16534</td>\n      <td>Private room</td>\n      <td>20</td>\n      <td>3</td>\n      <td>80</td>\n      <td>2019-05-26</td>\n      <td>0.92</td>\n      <td>1</td>\n      <td>226</td>\n    </tr>\n    <tr>\n      <th>2675</th>\n      <td>1428154</td>\n      <td>Central, Peaceful Semi-Private Room</td>\n      <td>5912572</td>\n      <td>Tangier</td>\n      <td>Brooklyn</td>\n      <td>Flatbush</td>\n      <td>40.63899</td>\n      <td>-73.95177</td>\n      <td>Shared room</td>\n      <td>29</td>\n      <td>2</td>\n      <td>5</td>\n      <td>2014-10-20</td>\n      <td>0.07</td>\n      <td>1</td>\n      <td>321</td>\n    </tr>\n    <tr>\n      <th>2860</th>\n      <td>1620248</td>\n      <td>Large furnished 2 bedrooms- - 30 days Minimum</td>\n      <td>2196224</td>\n      <td>Sally</td>\n      <td>Manhattan</td>\n      <td>East Village</td>\n      <td>40.73051</td>\n      <td>-73.98140</td>\n      <td>Entire home/apt</td>\n      <td>10</td>\n      <td>30</td>\n      <td>0</td>\n      <td>NaN</td>\n      <td>NaN</td>\n      <td>4</td>\n      <td>137</td>\n    </tr>\n    <tr>\n      <th>3020</th>\n      <td>1767037</td>\n      <td>Small Cozy Room Wifi &amp; AC near JFK</td>\n      <td>9284163</td>\n      <td>Antonio</td>\n      <td>Queens</td>\n      <td>Woodhaven</td>\n      <td>40.68968</td>\n      <td>-73.85219</td>\n      <td>Private room</td>\n      <td>29</td>\n      <td>2</td>\n      <td>386</td>\n      <td>2019-06-19</td>\n      <td>5.53</td>\n      <td>3</td>\n      <td>50</td>\n    </tr>\n    <tr>\n      <th>3918</th>\n      <td>2431607</td>\n      <td>Bright, Airy Room Share for 2</td>\n      <td>4973668</td>\n      <td>Gloria</td>\n      <td>Brooklyn</td>\n      <td>Bedford-Stuyvesant</td>\n      <td>40.68642</td>\n      <td>-73.93440</td>\n      <td>Shared room</td>\n      <td>25</td>\n      <td>5</td>\n      <td>76</td>\n      <td>2019-06-06</td>\n      <td>1.22</td>\n      <td>3</td>\n      <td>258</td>\n    </tr>\n    <tr>\n      <th>...</th>\n      <td>...</td>\n      <td>...</td>\n      <td>...</td>\n      <td>...</td>\n      <td>...</td>\n      <td>...</td>\n      <td>...</td>\n      <td>...</td>\n      <td>...</td>\n      <td>...</td>\n      <td>...</td>\n      <td>...</td>\n      <td>...</td>\n      <td>...</td>\n      <td>...</td>\n      <td>...</td>\n    </tr>\n    <tr>\n      <th>48486</th>\n      <td>36280646</td>\n      <td>Cable and wfi, L/G included.</td>\n      <td>272872092</td>\n      <td>Chris</td>\n      <td>Queens</td>\n      <td>Forest Hills</td>\n      <td>40.73657</td>\n      <td>-73.85088</td>\n      <td>Entire home/apt</td>\n      <td>16</td>\n      <td>9</td>\n      <td>1</td>\n      <td>2019-07-07</td>\n      <td>1.00</td>\n      <td>1</td>\n      <td>322</td>\n    </tr>\n    <tr>\n      <th>48647</th>\n      <td>36354776</td>\n      <td>Cozy bedroom in diverse neighborhood near JFK</td>\n      <td>273393150</td>\n      <td>Liza</td>\n      <td>Queens</td>\n      <td>Richmond Hill</td>\n      <td>40.68639</td>\n      <td>-73.81847</td>\n      <td>Private room</td>\n      <td>28</td>\n      <td>2</td>\n      <td>0</td>\n      <td>NaN</td>\n      <td>NaN</td>\n      <td>1</td>\n      <td>24</td>\n    </tr>\n    <tr>\n      <th>48832</th>\n      <td>36450814</td>\n      <td>FLATBUSH HANG OUT AND GO</td>\n      <td>267223765</td>\n      <td>Jarmel</td>\n      <td>Brooklyn</td>\n      <td>Flatbush</td>\n      <td>40.64922</td>\n      <td>-73.96078</td>\n      <td>Shared room</td>\n      <td>20</td>\n      <td>1</td>\n      <td>0</td>\n      <td>NaN</td>\n      <td>NaN</td>\n      <td>3</td>\n      <td>363</td>\n    </tr>\n    <tr>\n      <th>48867</th>\n      <td>36473044</td>\n      <td>The place you were dreaming for.(only for guys)</td>\n      <td>261338177</td>\n      <td>Diana</td>\n      <td>Brooklyn</td>\n      <td>Gravesend</td>\n      <td>40.59080</td>\n      <td>-73.97116</td>\n      <td>Shared room</td>\n      <td>25</td>\n      <td>1</td>\n      <td>0</td>\n      <td>NaN</td>\n      <td>NaN</td>\n      <td>6</td>\n      <td>338</td>\n    </tr>\n    <tr>\n      <th>48868</th>\n      <td>36473253</td>\n      <td>Heaven for you(only for guy)</td>\n      <td>261338177</td>\n      <td>Diana</td>\n      <td>Brooklyn</td>\n      <td>Gravesend</td>\n      <td>40.59118</td>\n      <td>-73.97119</td>\n      <td>Shared room</td>\n      <td>25</td>\n      <td>7</td>\n      <td>0</td>\n      <td>NaN</td>\n      <td>NaN</td>\n      <td>6</td>\n      <td>365</td>\n    </tr>\n  </tbody>\n</table>\n<p>404 rows × 16 columns</p>\n</div>"
     },
     "metadata": {},
     "execution_count": 5
    }
   ],
   "source": [
    "df[df.price<min_thresold]"
   ]
  },
  {
   "cell_type": "code",
   "execution_count": 6,
   "metadata": {},
   "outputs": [
    {
     "output_type": "execute_result",
     "data": {
      "text/plain": "(48183, 16)"
     },
     "metadata": {},
     "execution_count": 6
    }
   ],
   "source": [
    "df2 = df[(df.price>min_thresold) & (df.price<max_thresold)]\n",
    "df2.shape"
   ]
  },
  {
   "cell_type": "code",
   "execution_count": 7,
   "metadata": {
    "scrolled": true
   },
   "outputs": [
    {
     "output_type": "execute_result",
     "data": {
      "text/plain": "             id                                               name   host_id  \\\n19022  15110120       Great Location! Brooklyn Heights One Bedroom   3186019   \n15693  12676434                 Charming Upper East Side Apartment   2750607   \n43942  33961484               Gorgeous room near Washington Square  15617182   \n48158  36112469  Perfect location, beautiful apartment in the City  44183725   \n3303    1975069          Loft Bedroom in Duplex 3BR & Private Roof    151654   \n\n      host_name neighbourhood_group      neighbourhood  latitude  longitude  \\\n19022  Philippe            Brooklyn   Brooklyn Heights  40.69293  -73.99113   \n15693   Roxanne           Manhattan    Upper East Side  40.77963  -73.94897   \n43942    Namaya           Manhattan  Greenwich Village  40.72811  -73.99893   \n48158    Neelam           Manhattan            Chelsea  40.75095  -73.99542   \n3303       Brad           Manhattan  Greenwich Village  40.72796  -73.99761   \n\n             room_type  price  minimum_nights  number_of_reviews last_review  \\\n19022  Entire home/apt    188               2                 25  2019-06-27   \n15693  Entire home/apt    150               4                  0         NaN   \n43942     Private room     90               2                  4  2019-05-19   \n48158  Entire home/apt    185               3                  1  2019-07-01   \n3303      Private room    150               2                  7  2017-12-02   \n\n       reviews_per_month  calculated_host_listings_count  availability_365  \n19022               0.74                               1                30  \n15693                NaN                               1                 0  \n43942               1.54                               1               146  \n48158               1.00                               1                 7  \n3303                0.12                               1                 0  ",
      "text/html": "<div>\n<style scoped>\n    .dataframe tbody tr th:only-of-type {\n        vertical-align: middle;\n    }\n\n    .dataframe tbody tr th {\n        vertical-align: top;\n    }\n\n    .dataframe thead th {\n        text-align: right;\n    }\n</style>\n<table border=\"1\" class=\"dataframe\">\n  <thead>\n    <tr style=\"text-align: right;\">\n      <th></th>\n      <th>id</th>\n      <th>name</th>\n      <th>host_id</th>\n      <th>host_name</th>\n      <th>neighbourhood_group</th>\n      <th>neighbourhood</th>\n      <th>latitude</th>\n      <th>longitude</th>\n      <th>room_type</th>\n      <th>price</th>\n      <th>minimum_nights</th>\n      <th>number_of_reviews</th>\n      <th>last_review</th>\n      <th>reviews_per_month</th>\n      <th>calculated_host_listings_count</th>\n      <th>availability_365</th>\n    </tr>\n  </thead>\n  <tbody>\n    <tr>\n      <th>19022</th>\n      <td>15110120</td>\n      <td>Great Location! Brooklyn Heights One Bedroom</td>\n      <td>3186019</td>\n      <td>Philippe</td>\n      <td>Brooklyn</td>\n      <td>Brooklyn Heights</td>\n      <td>40.69293</td>\n      <td>-73.99113</td>\n      <td>Entire home/apt</td>\n      <td>188</td>\n      <td>2</td>\n      <td>25</td>\n      <td>2019-06-27</td>\n      <td>0.74</td>\n      <td>1</td>\n      <td>30</td>\n    </tr>\n    <tr>\n      <th>15693</th>\n      <td>12676434</td>\n      <td>Charming Upper East Side Apartment</td>\n      <td>2750607</td>\n      <td>Roxanne</td>\n      <td>Manhattan</td>\n      <td>Upper East Side</td>\n      <td>40.77963</td>\n      <td>-73.94897</td>\n      <td>Entire home/apt</td>\n      <td>150</td>\n      <td>4</td>\n      <td>0</td>\n      <td>NaN</td>\n      <td>NaN</td>\n      <td>1</td>\n      <td>0</td>\n    </tr>\n    <tr>\n      <th>43942</th>\n      <td>33961484</td>\n      <td>Gorgeous room near Washington Square</td>\n      <td>15617182</td>\n      <td>Namaya</td>\n      <td>Manhattan</td>\n      <td>Greenwich Village</td>\n      <td>40.72811</td>\n      <td>-73.99893</td>\n      <td>Private room</td>\n      <td>90</td>\n      <td>2</td>\n      <td>4</td>\n      <td>2019-05-19</td>\n      <td>1.54</td>\n      <td>1</td>\n      <td>146</td>\n    </tr>\n    <tr>\n      <th>48158</th>\n      <td>36112469</td>\n      <td>Perfect location, beautiful apartment in the City</td>\n      <td>44183725</td>\n      <td>Neelam</td>\n      <td>Manhattan</td>\n      <td>Chelsea</td>\n      <td>40.75095</td>\n      <td>-73.99542</td>\n      <td>Entire home/apt</td>\n      <td>185</td>\n      <td>3</td>\n      <td>1</td>\n      <td>2019-07-01</td>\n      <td>1.00</td>\n      <td>1</td>\n      <td>7</td>\n    </tr>\n    <tr>\n      <th>3303</th>\n      <td>1975069</td>\n      <td>Loft Bedroom in Duplex 3BR &amp; Private Roof</td>\n      <td>151654</td>\n      <td>Brad</td>\n      <td>Manhattan</td>\n      <td>Greenwich Village</td>\n      <td>40.72796</td>\n      <td>-73.99761</td>\n      <td>Private room</td>\n      <td>150</td>\n      <td>2</td>\n      <td>7</td>\n      <td>2017-12-02</td>\n      <td>0.12</td>\n      <td>1</td>\n      <td>0</td>\n    </tr>\n  </tbody>\n</table>\n</div>"
     },
     "metadata": {},
     "execution_count": 7
    }
   ],
   "source": [
    "df2.sample(5)"
   ]
  },
  {
   "cell_type": "code",
   "execution_count": 8,
   "metadata": {},
   "outputs": [
    {
     "output_type": "execute_result",
     "data": {
      "text/plain": "count    48183.000000\nmean       148.772036\nstd        153.594795\nmin         31.000000\n25%         70.000000\n50%        110.000000\n75%        179.000000\nmax       2999.000000\nName: price, dtype: float64"
     },
     "metadata": {},
     "execution_count": 8
    }
   ],
   "source": [
    "df2.price.describe()"
   ]
  }
 ],
 "metadata": {
  "kernelspec": {
   "display_name": "Python 3",
   "language": "python",
   "name": "python3"
  },
  "language_info": {
   "codemirror_mode": {
    "name": "ipython",
    "version": 3
   },
   "file_extension": ".py",
   "mimetype": "text/x-python",
   "name": "python",
   "nbconvert_exporter": "python",
   "pygments_lexer": "ipython3",
   "version": "3.7.3-final"
  }
 },
 "nbformat": 4,
 "nbformat_minor": 2
}